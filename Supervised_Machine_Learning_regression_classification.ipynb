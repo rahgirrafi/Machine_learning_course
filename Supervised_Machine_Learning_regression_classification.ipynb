{
  "nbformat": 4,
  "nbformat_minor": 0,
  "metadata": {
    "colab": {
      "provenance": [],
      "authorship_tag": "ABX9TyOiB2XK8KwBP+e2qGYPUM7t",
      "include_colab_link": true
    },
    "kernelspec": {
      "name": "python3",
      "display_name": "Python 3"
    },
    "language_info": {
      "name": "python"
    }
  },
  "cells": [
    {
      "cell_type": "markdown",
      "metadata": {
        "id": "view-in-github",
        "colab_type": "text"
      },
      "source": [
        "<a href=\"https://colab.research.google.com/github/rahgirrafi/Machine_learning_course/blob/main/Supervised_Machine_Learning_regression_classification.ipynb\" target=\"_parent\"><img src=\"https://colab.research.google.com/assets/colab-badge.svg\" alt=\"Open In Colab\"/></a>"
      ]
    },
    {
      "cell_type": "markdown",
      "source": [
        "<a name=\"toc_40291_2.1\"></a>\n",
        "#### Cost Function\n",
        "Model:\n",
        "$$f_{w,b}(x^{(i)}) = wx^{(i)} + b $$\n",
        "\n",
        "The cost function:\n",
        "$$J(w,b) = \\frac{1}{2m} \\sum\\limits_{i = 0}^{m-1} (f_{w,b}(x^{(i)}) - y^{(i)})^2$$ "
      ],
      "metadata": {
        "id": "t1go2jg1Seo0"
      }
    },
    {
      "cell_type": "markdown",
      "source": [
        "\n",
        "The gradient is defined as:\n",
        "$$\n",
        "\\begin{align}\n",
        "\\frac{\\partial J(w,b)}{\\partial w}  &= \\frac{1}{m} \\sum\\limits_{i = 0}^{m-1} (f_{w,b}(x^{(i)}) - y^{(i)})x^{(i)} \\\\\n",
        "  \\frac{\\partial J(w,b)}{\\partial b}  &= \\frac{1}{m} \\sum\\limits_{i = 0}^{m-1} (f_{w,b}(x^{(i)}) - y^{(i)}) \\\\\n",
        "\\end{align}\n",
        "$$"
      ],
      "metadata": {
        "id": "DsI0nsQASl69"
      }
    },
    {
      "cell_type": "markdown",
      "source": [
        "In lecture, *gradient descent* was described as:\n",
        "\n",
        "$$\\begin{align*} \\text{repeat}&\\text{ until convergence:} \\; \\lbrace \\newline\n",
        "\\;  w &= w -  \\alpha \\frac{\\partial J(w,b)}{\\partial w} \\tag{3}  \\; \\newline \n",
        " b &= b -  \\alpha \\frac{\\partial J(w,b)}{\\partial b}  \\newline \\rbrace\n",
        "\\end{align*}$$\n",
        "where, parameters $w$, $b$ are updated simultaneously.  \n",
        "The gradient is defined as:\n",
        "$$\n",
        "\\begin{align}\n",
        "\\frac{\\partial J(w,b)}{\\partial w}  &= \\frac{1}{m} \\sum\\limits_{i = 0}^{m-1} (f_{w,b}(x^{(i)}) - y^{(i)})x^{(i)} \\tag{4}\\\\\n",
        "  \\frac{\\partial J(w,b)}{\\partial b}  &= \\frac{1}{m} \\sum\\limits_{i = 0}^{m-1} (f_{w,b}(x^{(i)}) - y^{(i)}) \\tag{5}\\\\\n",
        "\\end{align}\n",
        "$$\n",
        "\n",
        "Here *simultaniously* means that you calculate the partial derivatives for all the parameters before updating any of the parameters."
      ],
      "metadata": {
        "id": "bQ6RuceTbuuI"
      }
    },
    {
      "cell_type": "code",
      "source": [
        "import numpy as np\n",
        "import matplotlib.pyplot as plt"
      ],
      "metadata": {
        "id": "CLPWMF6jTmIw"
      },
      "execution_count": 117,
      "outputs": []
    },
    {
      "cell_type": "code",
      "source": [
        "x = np.array([1,2,3,4,5,6,7,8])\n",
        "y= np.array([10,8,12,11,16,13,15,17])\n",
        "w=1\n",
        "b=1"
      ],
      "metadata": {
        "id": "R-rXUlhET7yz"
      },
      "execution_count": 128,
      "outputs": []
    },
    {
      "cell_type": "code",
      "source": [
        "def cost_function(x:np.array, y:np.array, w:float, b:float):\n",
        "  m  = x.shape[0]\n",
        "  j_wb = 0\n",
        "  cost = 0\n",
        "  for i in range(m):\n",
        "    f_wb = w*x[i] +b\n",
        "    cost_temp = (f_wb - y[i])**2\n",
        "    cost += cost_temp\n",
        "  return cost/(2*m)\n",
        "\n",
        "cost_function(x,y,w,b)"
      ],
      "metadata": {
        "colab": {
          "base_uri": "https://localhost:8080/"
        },
        "id": "2Xi4B3nzWPdd",
        "outputId": "120df0b3-7301-420a-c287-95f6c2d22073"
      },
      "execution_count": 129,
      "outputs": [
        {
          "output_type": "execute_result",
          "data": {
            "text/plain": [
              "27.375"
            ]
          },
          "metadata": {},
          "execution_count": 129
        }
      ]
    },
    {
      "cell_type": "code",
      "source": [
        "def gradient(x:np.array, y:np.array, w:float, b:float):\n",
        "  m = x.shape[0]\n",
        "  j_wb = 0\n",
        "  dj_dw_sum_holder = 0\n",
        "  dj_db_sum_holder = 0\n",
        "\n",
        "  for i in range(m):\n",
        "    f_wb = w*x[i] +b\n",
        "    dj_dw_temp = (f_wb - y[i])*x[i]\n",
        "    dj_db_temp = (f_wb - y[i]) \n",
        "    dj_dw_sum_holder += dj_dw_temp\n",
        "    dj_db_sum_holder += dj_db_temp\n",
        "\n",
        "  dj_dw =  dj_dw_sum_holder / m\n",
        "  dj_db =  dj_db_sum_holder / m\n",
        "\n",
        "  return dj_dw, dj_db\n",
        "\n",
        "\n"
      ],
      "metadata": {
        "id": "kXW3yZ1FbJzC"
      },
      "execution_count": 130,
      "outputs": []
    },
    {
      "cell_type": "code",
      "source": [
        "def gradient_descent(x:np.array, y:np.array, w:float, b:float, a, n, gradient ):\n",
        "  for i in range(n):\n",
        "    dj_dw, dj_db = gradient(x,y,w,b)\n",
        "    w_temp = w - a* dj_dw\n",
        "    b_temp = b - a* dj_db\n",
        "    w= w_temp\n",
        "    b= b_temp\n",
        "  return w, b\n",
        "\n",
        "w,b = gradient_descent(x, y, w, b, 0.01, 1000, gradient)\n",
        "\n",
        "print(w,b)"
      ],
      "metadata": {
        "colab": {
          "base_uri": "https://localhost:8080/"
        },
        "id": "xYq_GuJDd0DE",
        "outputId": "60df0598-2e5f-447f-a118-87e8300afe27"
      },
      "execution_count": 136,
      "outputs": [
        {
          "output_type": "stream",
          "name": "stdout",
          "text": [
            "1.0952918476031155 7.821126359110908\n"
          ]
        }
      ]
    },
    {
      "cell_type": "code",
      "source": [
        "plt.scatter(x,y,c = 'r')\n",
        "y2 = w*x +b\n",
        "plt.plot(x,y2)\n",
        "plt.show()"
      ],
      "metadata": {
        "colab": {
          "base_uri": "https://localhost:8080/",
          "height": 430
        },
        "id": "FqZbWA4XgUUY",
        "outputId": "512705a3-3af3-4731-be27-f7326750287c"
      },
      "execution_count": 137,
      "outputs": [
        {
          "output_type": "display_data",
          "data": {
            "text/plain": [
              "<Figure size 640x480 with 1 Axes>"
            ],
            "image/png": "[encoded data removed]"
          },
          "metadata": {}
        }
      ]
    }
  ]
}