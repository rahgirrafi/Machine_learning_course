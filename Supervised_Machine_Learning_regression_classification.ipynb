{
  "nbformat": 4,
  "nbformat_minor": 0,
  "metadata": {
    "colab": {
      "provenance": [],
      "authorship_tag": "ABX9TyNsGRAVLGJbuwtKjqM2XBWG",
      "include_colab_link": true
    },
    "kernelspec": {
      "name": "python3",
      "display_name": "Python 3"
    },
    "language_info": {
      "name": "python"
    }
  },
  "cells": [
    {
      "cell_type": "markdown",
      "metadata": {
        "id": "view-in-github",
        "colab_type": "text"
      },
      "source": [
        "<a href=\"https://colab.research.google.com/github/rahgirrafi/Machine_learning_course/blob/main/Supervised_Machine_Learning_regression_classification.ipynb\" target=\"_parent\"><img src=\"https://colab.research.google.com/assets/colab-badge.svg\" alt=\"Open In Colab\"/></a>"
      ]
    },
    {
      "cell_type": "markdown",
      "source": [
        "## **Single Feature/Parameter**"
      ],
      "metadata": {
        "id": "-mve_4zHqLcS"
      }
    },
    {
      "cell_type": "markdown",
      "source": [
        "<a name=\"toc_40291_2.1\"></a>\n",
        "\n",
        "Model:\n",
        "$$f_{w,b}(x^{(i)}) = wx^{(i)} + b $$\n",
        "\n",
        "The cost function:\n",
        "$$J(w,b) = \\frac{1}{2m} \\sum\\limits_{i = 0}^{m-1} (f_{w,b}(x^{(i)}) - y^{(i)})^2\\tag{2}$$ "
      ],
      "metadata": {
        "id": "t1go2jg1Seo0"
      }
    },
    {
      "cell_type": "markdown",
      "source": [
        "\n",
        "The gradient is defined as:\n",
        "$$\n",
        "\\begin{align}\n",
        "\\frac{\\partial J(w,b)}{\\partial w}  &= \\frac{1}{m} \\sum\\limits_{i = 0}^{m-1} (f_{w,b}(x^{(i)}) - y^{(i)})x^{(i)} \\\\\n",
        "  \\frac{\\partial J(w,b)}{\\partial b}  &= \\frac{1}{m} \\sum\\limits_{i = 0}^{m-1} (f_{w,b}(x^{(i)}) - y^{(i)}) \\\\\n",
        "\\end{align}\n",
        "$$"
      ],
      "metadata": {
        "id": "DsI0nsQASl69"
      }
    },
    {
      "cell_type": "markdown",
      "source": [
        "In lecture, *gradient descent* was described as:\n",
        "\n",
        "$$\\begin{align*} \\text{repeat}&\\text{ until convergence:} \\; \\lbrace \\newline\n",
        "\\;  w &= w -  \\alpha \\frac{\\partial J(w,b)}{\\partial w} \\tag{3}  \\; \\newline \n",
        " b &= b -  \\alpha \\frac{\\partial J(w,b)}{\\partial b}  \\newline \\rbrace\n",
        "\\end{align*}$$\n",
        "where, parameters $w$, $b$ are updated simultaneously.  \n",
        "The gradient is defined as:\n",
        "$$\n",
        "\\begin{align}\n",
        "\\frac{\\partial J(w,b)}{\\partial w}  &= \\frac{1}{m} \\sum\\limits_{i = 0}^{m-1} (f_{w,b}(x^{(i)}) - y^{(i)})x^{(i)} \\tag{4}\\\\\n",
        "  \\frac{\\partial J(w,b)}{\\partial b}  &= \\frac{1}{m} \\sum\\limits_{i = 0}^{m-1} (f_{w,b}(x^{(i)}) - y^{(i)}) \\tag{5}\\\\\n",
        "\\end{align}\n",
        "$$\n",
        "\n",
        "Here *simultaniously* means that you calculate the partial derivatives for all the parameters before updating any of the parameters."
      ],
      "metadata": {
        "id": "bQ6RuceTbuuI"
      }
    },
    {
      "cell_type": "code",
      "source": [
        "import numpy as np\n",
        "import matplotlib.pyplot as plt\n",
        "import copy\n",
        "import time"
      ],
      "metadata": {
        "id": "CLPWMF6jTmIw"
      },
      "execution_count": 2,
      "outputs": []
    },
    {
      "cell_type": "code",
      "source": [
        "x = np.array([1,2,3,4,5,6,7,8])\n",
        "y= np.array([10,8,12,11,16,13,15,17])\n",
        "w=1\n",
        "b=1"
      ],
      "metadata": {
        "id": "R-rXUlhET7yz"
      },
      "execution_count": 3,
      "outputs": []
    },
    {
      "cell_type": "code",
      "source": [
        "def cost_function(X_train, y_train, w,b):\n",
        "  m = X_train.shape[0]\n",
        "  f_wb = np.dot(X_train, w) + b\n",
        "  cost = 0\n",
        "  cost_temp = (f_wb - y_train)**2\n",
        "  cost = np.sum(cost_temp)\n",
        "  return cost/(2*m)\n",
        "\n",
        "cost_function(x,y,w,b)"
      ],
      "metadata": {
        "colab": {
          "base_uri": "https://localhost:8080/"
        },
        "id": "2Xi4B3nzWPdd",
        "outputId": "9159793f-5a18-4336-d9cb-eabfefce4196"
      },
      "execution_count": 4,
      "outputs": [
        {
          "output_type": "execute_result",
          "data": {
            "text/plain": [
              "27.375"
            ]
          },
          "metadata": {},
          "execution_count": 4
        }
      ]
    },
    {
      "cell_type": "code",
      "source": [
        "def gradient(x:np.array, y:np.array, w:float, b:float):\n",
        "  m = x.shape[0]\n",
        "  j_wb = 0\n",
        "  dj_dw_sum_holder = 0\n",
        "  dj_db_sum_holder = 0\n",
        "\n",
        "  for i in range(m):\n",
        "    f_wb = w*x[i] +b\n",
        "    dj_dw_temp = (f_wb - y[i])*x[i]\n",
        "    dj_db_temp = (f_wb - y[i]) \n",
        "    dj_dw_sum_holder += dj_dw_temp\n",
        "    dj_db_sum_holder += dj_db_temp\n",
        "\n",
        "  dj_dw =  dj_dw_sum_holder / m\n",
        "  dj_db =  dj_db_sum_holder / m\n",
        "\n",
        "  return dj_dw, dj_db\n",
        "\n",
        "\n"
      ],
      "metadata": {
        "id": "kXW3yZ1FbJzC"
      },
      "execution_count": 5,
      "outputs": []
    },
    {
      "cell_type": "code",
      "source": [
        "def gradient_descent(x:np.array, y:np.array, w:float, b:float, a, n, gradient ):\n",
        "  for i in range(n):\n",
        "    dj_dw, dj_db = gradient(x,y,w,b)\n",
        "    w_temp = w - a* dj_dw\n",
        "    b_temp = b - a* dj_db\n",
        "    w= w_temp\n",
        "    b= b_temp\n",
        "  return w, b\n",
        "\n",
        "w,b = gradient_descent(x, y, w, b, 0.01, 1000, gradient)\n",
        "\n",
        "print(w,b)"
      ],
      "metadata": {
        "colab": {
          "base_uri": "https://localhost:8080/"
        },
        "id": "xYq_GuJDd0DE",
        "outputId": "1341dddb-b9ff-400d-8cb6-4c670bb99fe9"
      },
      "execution_count": 6,
      "outputs": [
        {
          "output_type": "stream",
          "name": "stdout",
          "text": [
            "1.254298962470829 6.927139486327555\n"
          ]
        }
      ]
    },
    {
      "cell_type": "code",
      "source": [
        "plt.scatter(x,y,c = 'r')\n",
        "y2 = w*x +b\n",
        "plt.plot(x,y2)\n",
        "plt.show()"
      ],
      "metadata": {
        "colab": {
          "base_uri": "https://localhost:8080/",
          "height": 430
        },
        "id": "FqZbWA4XgUUY",
        "outputId": "376beb15-417e-4c9c-b956-126ee14ee269"
      },
      "execution_count": 7,
      "outputs": [
        {
          "output_type": "display_data",
          "data": {
            "text/plain": [
              "<Figure size 640x480 with 1 Axes>"
            ],
            "image/png": "[encoded data removed]"
          },
          "metadata": {}
        }
      ]
    },
    {
      "cell_type": "markdown",
      "source": [
        "##Multiple Feature "
      ],
      "metadata": {
        "id": "x-B4QADc0Y3C"
      }
    },
    {
      "cell_type": "markdown",
      "source": [
        "**Model:**\n",
        "$$ f_{\\mathbf{w},b}(\\mathbf{x}) =  w_0x_0 + w_1x_1 +... + w_{n-1}x_{n-1} + b $$\n",
        "\n",
        "$$ f_{\\mathbf{w},b}(\\mathbf{x}) = \\mathbf{w} \\cdot \\mathbf{x} + b  \\tag{4} $$ \n",
        "\n",
        "\n",
        "The equation for the cost function with multiple variables $J(\\mathbf{w},b)$ is:\n",
        "$$J(\\mathbf{w},b) = \\frac{1}{2m} \\sum\\limits_{i = 0}^{m-1} (f_{\\mathbf{w},b}(\\mathbf{x}^{(i)}) - y^{(i)})^2 \\tag{3}$$ \n",
        "where:\n",
        "$$ f_{\\mathbf{w},b}(\\mathbf{x}^{(i)}) = \\mathbf{w} \\cdot \\mathbf{x}^{(i)} + b  \\tag{4} $$ \n"
      ],
      "metadata": {
        "id": "5hRbSqBHzmEj"
      }
    },
    {
      "cell_type": "markdown",
      "source": [
        "\n",
        "**Gradient descent for multiple variables:**\n",
        "\n",
        "$$\\begin{align*} \\text{repeat}&\\text{ until convergence:} \\; \\lbrace \\newline\\;\n",
        "& w_j = w_j -  \\alpha \\frac{\\partial J(\\mathbf{w},b)}{\\partial w_j} \\tag{5}  \\; & \\text{for j = 0..n-1}\\newline\n",
        "&b\\ \\ = b -  \\alpha \\frac{\\partial J(\\mathbf{w},b)}{\\partial b}  \\newline \\rbrace\n",
        "\\end{align*}$$\n",
        "\n",
        "\n",
        "**Gradient:**\n",
        "\n",
        "$$\n",
        "\\begin{align}\n",
        "\\frac{\\partial J(\\mathbf{w},b)}{\\partial w_j}  &= \\frac{1}{m} \\sum\\limits_{i = 0}^{m-1} (f_{\\mathbf{w},b}(\\mathbf{x}^{(i)}) - y^{(i)})x_{j}^{(i)} \\tag{6}  \\\\\n",
        "\\frac{\\partial J(\\mathbf{w},b)}{\\partial b}  &= \\frac{1}{m} \\sum\\limits_{i = 0}^{m-1} (f_{\\mathbf{w},b}(\\mathbf{x}^{(i)}) - y^{(i)}) \\tag{7}\n",
        "\\end{align}\n",
        "$$\n",
        "* m is the number of training examples in the data set\n",
        "\n",
        "    \n",
        "*  $f_{\\mathbf{w},b}(\\mathbf{x}^{(i)})$ is the model's prediction, while $y^{(i)}$ is the target value\n"
      ],
      "metadata": {
        "id": "18FGtzrK0LEr"
      }
    },
    {
      "cell_type": "code",
      "source": [
        "X_train = np.array([[2104, 5, 1, 45], [1416, 3, 2, 40], [852, 2, 1, 35]])\n",
        "y_train = np.array([460, 232, 178])\n",
        "\n",
        "#randomly give some initial value to w and b\n",
        "w = np.array([ 0.39133535, 18.75376741, -53.36032453, -26.42131618])\n",
        "b = 785.1811367994083\n",
        "f_wb = np.dot(X_train, w) + b\n",
        "\n",
        "m,n = X_train.shape\n",
        "arr = np.zeros((n,m)) \n",
        "for i in range(n):\n",
        "  for j in range(n-1): \n",
        "    arr[i,j] = X_train[j,i]\n",
        "f_wb"
      ],
      "metadata": {
        "id": "wVa20Gaz0Xmx",
        "colab": {
          "base_uri": "https://localhost:8080/"
        },
        "outputId": "392cd954-c1a7-42bd-cc27-b1f706b77cae"
      },
      "execution_count": 8,
      "outputs": [
        {
          "output_type": "execute_result",
          "data": {
            "text/plain": [
              "array([459.99999762, 231.99999837, 177.99999899])"
            ]
          },
          "metadata": {},
          "execution_count": 8
        }
      ]
    },
    {
      "cell_type": "code",
      "source": [
        "def gradient_multi(X_train, y_train, w, b):\n",
        "\n",
        "  m,n = X_train.shape\n",
        "  dj_dw_sum_holder = np.array([])\n",
        "  dj_db_sum_holder = np.array([])\n",
        "  f_wb = np.dot(X_train , w) +b\n",
        "  err = f_wb - y_train\n",
        "\n",
        "  arr = np.zeros((n,m)) \n",
        "  for i in range(n):\n",
        "    for j in range(n-1): \n",
        "      arr[i,j] = X_train[j,i]\n",
        "  \n",
        "  for i in range(w.shape[0]):\n",
        "    #print(f'w_temp = {err} * {arr[i]}')\n",
        "    w_temp = err * arr[i]\n",
        "    dj_dw_sum_holder = np.append(dj_dw_sum_holder, np.sum(w_temp) ) \n",
        "  dj_dw = dj_dw_sum_holder/m\n",
        "\n",
        "  dj_db = np.sum(err)/m\n",
        " \n",
        "  return  dj_dw, dj_db\n",
        "gradient_multi(X_train,y_train,w,b)"
      ],
      "metadata": {
        "colab": {
          "base_uri": "https://localhost:8080/"
        },
        "id": "wyHH20y5QCky",
        "outputId": "4a71e03b-e401-4b86-8d0c-3133aa280828"
      },
      "execution_count": 9,
      "outputs": [
        {
          "output_type": "execute_result",
          "data": {
            "text/plain": [
              "(array([-2.72623574e-03, -6.27197255e-06, -2.21745574e-06, -6.92403377e-05]),\n",
              " -1.6739251122999121e-06)"
            ]
          },
          "metadata": {},
          "execution_count": 9
        }
      ]
    },
    {
      "cell_type": "code",
      "source": [
        "initial_w = np.zeros_like(w)\n",
        "initial_b = 0\n",
        "def gradient_descent_multi(x:np.array, y:np.array, w, b, a, n, gradient_multi):\n",
        "  \n",
        "  w_temp = copy.deepcopy(w)\n",
        "  for i in range(n):\n",
        "    dj_dw, dj_db = gradient_multi(X_train,y_train,w,b)\n",
        "    w_temp = w - a* dj_dw  \n",
        "    b_temp = b - a* dj_db\n",
        "    w= w_temp\n",
        "    b= b_temp\n",
        "  return w, b\n",
        "\n",
        "\n",
        "gradient_descent_multi(X_train,y_train, initial_w, initial_b, 5.0e-7, 1000,gradient_multi)\n"
      ],
      "metadata": {
        "colab": {
          "base_uri": "https://localhost:8080/"
        },
        "id": "Pl3gz0F6BDMm",
        "outputId": "c9e6a789-1679-42b2-bfac-86f9ff8b2b1b"
      },
      "execution_count": 17,
      "outputs": [
        {
          "output_type": "execute_result",
          "data": {
            "text/plain": [
              "(array([ 0.20396569,  0.00374919, -0.0112487 , -0.0658614 ]),\n",
              " -0.0022354075309325345)"
            ]
          },
          "metadata": {},
          "execution_count": 17
        }
      ]
    }
  ]
}